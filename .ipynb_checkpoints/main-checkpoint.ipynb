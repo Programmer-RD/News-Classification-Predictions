{
 "cells": [
  {
   "cell_type": "code",
   "execution_count": 1,
   "metadata": {},
   "outputs": [],
   "source": [
    "import pandas as pd"
   ]
  },
  {
   "cell_type": "code",
   "execution_count": 2,
   "metadata": {},
   "outputs": [
    {
     "name": "stdout",
     "output_type": "stream",
     "text": [
      "Archive:  ./archive (59).zip\n",
      "  inflating: inshort_news_data-1.csv  \n",
      "  inflating: inshort_news_data-2.csv  \n",
      "  inflating: inshort_news_data-3.csv  \n",
      "  inflating: inshort_news_data-4.csv  \n",
      "  inflating: inshort_news_data-5.csv  \n",
      "  inflating: inshort_news_data-6.csv  \n",
      "  inflating: inshort_news_data-7.csv  \n"
     ]
    }
   ],
   "source": [
    "!unzip ./archive\\ \\(59\\).zip"
   ]
  },
  {
   "cell_type": "code",
   "execution_count": 20,
   "metadata": {},
   "outputs": [],
   "source": [
    "data_0 = pd.read_csv('./inshort_news_data-1.csv')\n",
    "data_2 = pd.read_csv('./inshort_news_data-3.csv')\n",
    "data_3 = pd.read_csv('./inshort_news_data-4.csv')\n",
    "data_4 = pd.read_csv('./inshort_news_data-5.csv')\n",
    "data_5 = pd.read_csv('./inshort_news_data-6.csv')\n",
    "data_6 = pd.read_csv('./inshort_news_data-7.csv')"
   ]
  },
  {
   "cell_type": "code",
   "execution_count": 21,
   "metadata": {},
   "outputs": [
    {
     "data": {
      "text/html": [
       "<div>\n",
       "<style scoped>\n",
       "    .dataframe tbody tr th:only-of-type {\n",
       "        vertical-align: middle;\n",
       "    }\n",
       "\n",
       "    .dataframe tbody tr th {\n",
       "        vertical-align: top;\n",
       "    }\n",
       "\n",
       "    .dataframe thead th {\n",
       "        text-align: right;\n",
       "    }\n",
       "</style>\n",
       "<table border=\"1\" class=\"dataframe\">\n",
       "  <thead>\n",
       "    <tr style=\"text-align: right;\">\n",
       "      <th></th>\n",
       "      <th>Unnamed: 0</th>\n",
       "      <th>news_headline</th>\n",
       "      <th>news_article</th>\n",
       "      <th>news_category</th>\n",
       "    </tr>\n",
       "  </thead>\n",
       "  <tbody>\n",
       "    <tr>\n",
       "      <th>0</th>\n",
       "      <td>0</td>\n",
       "      <td>50-year-old problem of biology solved by Artif...</td>\n",
       "      <td>DeepMind's AI system 'AlphaFold' has been reco...</td>\n",
       "      <td>technology</td>\n",
       "    </tr>\n",
       "    <tr>\n",
       "      <th>1</th>\n",
       "      <td>1</td>\n",
       "      <td>Microsoft Teams to stop working on Internet Ex...</td>\n",
       "      <td>Microsoft Teams will stop working on Internet ...</td>\n",
       "      <td>technology</td>\n",
       "    </tr>\n",
       "    <tr>\n",
       "      <th>2</th>\n",
       "      <td>2</td>\n",
       "      <td>Hope US won't erect barriers to cooperation: C...</td>\n",
       "      <td>China, in response to reports of US adding Chi...</td>\n",
       "      <td>technology</td>\n",
       "    </tr>\n",
       "    <tr>\n",
       "      <th>3</th>\n",
       "      <td>3</td>\n",
       "      <td>Global smartphone sales in Q3 falls 5.7% to 36...</td>\n",
       "      <td>The global smartphone sales in the third quart...</td>\n",
       "      <td>technology</td>\n",
       "    </tr>\n",
       "    <tr>\n",
       "      <th>4</th>\n",
       "      <td>4</td>\n",
       "      <td>EU hoping Biden will clarify US position on di...</td>\n",
       "      <td>The European Union (EU) is hoping that US Pres...</td>\n",
       "      <td>technology</td>\n",
       "    </tr>\n",
       "  </tbody>\n",
       "</table>\n",
       "</div>"
      ],
      "text/plain": [
       "   Unnamed: 0                                      news_headline  \\\n",
       "0           0  50-year-old problem of biology solved by Artif...   \n",
       "1           1  Microsoft Teams to stop working on Internet Ex...   \n",
       "2           2  Hope US won't erect barriers to cooperation: C...   \n",
       "3           3  Global smartphone sales in Q3 falls 5.7% to 36...   \n",
       "4           4  EU hoping Biden will clarify US position on di...   \n",
       "\n",
       "                                        news_article news_category  \n",
       "0  DeepMind's AI system 'AlphaFold' has been reco...    technology  \n",
       "1  Microsoft Teams will stop working on Internet ...    technology  \n",
       "2  China, in response to reports of US adding Chi...    technology  \n",
       "3  The global smartphone sales in the third quart...    technology  \n",
       "4  The European Union (EU) is hoping that US Pres...    technology  "
      ]
     },
     "execution_count": 21,
     "metadata": {},
     "output_type": "execute_result"
    }
   ],
   "source": [
    "data_0.head()"
   ]
  },
  {
   "cell_type": "code",
   "execution_count": 22,
   "metadata": {},
   "outputs": [],
   "source": [
    "info = [data_0,data_2,data_3,data_4,data_5,data_6]\n",
    "data = pd.concat(info)"
   ]
  },
  {
   "cell_type": "code",
   "execution_count": 24,
   "metadata": {},
   "outputs": [],
   "source": [
    "def object_to_int(pd_df_data,coloum):\n",
    "    info_indexs = {}\n",
    "    index = -1\n",
    "    for info_in_coloum in pd_df_data[coloum]:\n",
    "        if info_in_coloum not in info_indexs.keys():\n",
    "            index = index + 1\n",
    "            info_indexs[info_in_coloum] = index\n",
    "    final_list = []\n",
    "    for all_info_object in pd_df_data[coloum]:\n",
    "        final_list.append(info_indexs[all_info_object])\n",
    "    with open(f'{coloum}.json','w') as json_file:\n",
    "        import json\n",
    "        json.dump(info_indexs,json_file)\n",
    "    return final_list"
   ]
  },
  {
   "cell_type": "code",
   "execution_count": 26,
   "metadata": {},
   "outputs": [],
   "source": [
    "data['news_category'] = object_to_int(data,'news_category')"
   ]
  },
  {
   "cell_type": "code",
   "execution_count": 28,
   "metadata": {},
   "outputs": [
    {
     "data": {
      "text/plain": [
       "2    1844\n",
       "4    1814\n",
       "1    1675\n",
       "0    1566\n",
       "3    1371\n",
       "6    1212\n",
       "5    1075\n",
       "Name: news_category, dtype: int64"
      ]
     },
     "execution_count": 28,
     "metadata": {},
     "output_type": "execute_result"
    }
   ],
   "source": [
    "data['news_category'].value_counts()"
   ]
  },
  {
   "cell_type": "code",
   "execution_count": 29,
   "metadata": {},
   "outputs": [
    {
     "name": "stdout",
     "output_type": "stream",
     "text": [
      "'archive (59).zip'\t   inshort_news_data-4.csv   inshort_news_data-7.csv\r\n",
      " inshort_news_data-1.csv   inshort_news_data-5.csv   news_category.json\r\n",
      " inshort_news_data-3.csv   inshort_news_data-6.csv   Untitled.ipynb\r\n"
     ]
    }
   ],
   "source": [
    "!ls"
   ]
  },
  {
   "cell_type": "code",
   "execution_count": 30,
   "metadata": {},
   "outputs": [],
   "source": [
    "from sklearn.metrics import *\n",
    "from sklearn.model_selection import *\n",
    "from sklearn.ensemble import *\n",
    "from sklearn.tree import *\n",
    "from sklearn.feature_extraction.text import CountVectorizer,TfidfVectorizer\n",
    "import matplotlib.pyplot as plt\n",
    "import numpy as np\n",
    "import json\n",
    "import seaborn as sns\n",
    "import os"
   ]
  },
  {
   "cell_type": "code",
   "execution_count": 34,
   "metadata": {},
   "outputs": [],
   "source": [
    "data.drop('Unnamed: 0',axis=1,inplace=True)"
   ]
  },
  {
   "cell_type": "code",
   "execution_count": 35,
   "metadata": {},
   "outputs": [],
   "source": [
    "data.dropna(inplace=True)"
   ]
  },
  {
   "cell_type": "code",
   "execution_count": 40,
   "metadata": {},
   "outputs": [],
   "source": [
    "data.head()\n",
    "data.drop('news_article',axis=1,inplace=True)\n",
    "data.rename({'news_headline':'News Headline','news_category':'News Category'},axis=1,inplace=True)"
   ]
  },
  {
   "cell_type": "code",
   "execution_count": 52,
   "metadata": {},
   "outputs": [],
   "source": [
    "X = data.drop('News Category',axis=1)\n",
    "y = data['News Category']"
   ]
  },
  {
   "cell_type": "code",
   "execution_count": 57,
   "metadata": {},
   "outputs": [],
   "source": [
    "cv = CountVectorizer()\n",
    "cv.fit(X['News Headline'])\n",
    "X_cv = cv.transform(X['News Headline'])"
   ]
  },
  {
   "cell_type": "code",
   "execution_count": 59,
   "metadata": {},
   "outputs": [
    {
     "data": {
      "text/plain": [
       "<10557x9408 sparse matrix of type '<class 'numpy.int64'>'\n",
       "\twith 117229 stored elements in Compressed Sparse Row format>"
      ]
     },
     "execution_count": 59,
     "metadata": {},
     "output_type": "execute_result"
    }
   ],
   "source": [
    "X_cv"
   ]
  },
  {
   "cell_type": "code",
   "execution_count": 61,
   "metadata": {},
   "outputs": [],
   "source": [
    "X_train,X_test,y_train,y_test = train_test_split(X_cv,y,test_size=0.25)"
   ]
  },
  {
   "cell_type": "code",
   "execution_count": 90,
   "metadata": {},
   "outputs": [],
   "source": [
    "def calcuate_metrixs(models:dict,X_train,X_test,y_train,y_test):\n",
    "    models_info = {}\n",
    "    for name,model in models.items():\n",
    "        print(name)\n",
    "        y_preds = model.predict(X_test)\n",
    "        info = {\n",
    "            'Accuracy':model.score(X_test,y_test),\n",
    "            'MAE':mean_absolute_error(y_test,y_preds),\n",
    "            'MSE':mean_squared_error(y_test,y_preds)\n",
    "        }\n",
    "        plot_confusion_matrix(model,X_test,y_test)\n",
    "        models_info[name] = info\n",
    "        print('\\n\\n')\n",
    "    return models_info\n",
    "def fit_and_calcuate_metrixs(models:dict,X_train,X_test,y_train,y_test):\n",
    "    models_info = {}\n",
    "    for name,model in models.items():\n",
    "        print(name)\n",
    "        model = model.fit(X_train,y_train)\n",
    "        y_preds = model.predict(X_test)\n",
    "        info = {\n",
    "            'Accuracy':model.score(X_test,y_test),\n",
    "#             'F1 Score':f1_score(y_test,y_preds),\n",
    "#             'Precision':precision_score(y_test,y_preds),\n",
    "#             'Recall':recall_score(y_test,y_preds)\n",
    "            'MAE':mean_absolute_error(y_test,y_preds),\n",
    "            'MSE':mean_squared_error(y_test,y_preds)\n",
    "        }\n",
    "        plot_confusion_matrix(model,X_test,y_test)\n",
    "        models_info[name] = info\n",
    "        print('\\n\\n')\n",
    "    return models_info"
   ]
  },
  {
   "cell_type": "code",
   "execution_count": 80,
   "metadata": {},
   "outputs": [
    {
     "name": "stdout",
     "output_type": "stream",
     "text": [
      "RandomForestClassifier\n",
      "\n",
      "\n",
      "\n",
      "DecisionTreeClassifier\n",
      "\n",
      "\n",
      "\n",
      "SGDClassifier\n",
      "\n",
      "\n",
      "\n"
     ]
    },
    {
     "data": {
      "text/plain": [
       "<AxesSubplot:>"
      ]
     },
     "execution_count": 80,
     "metadata": {},
     "output_type": "execute_result"
    },
    {
     "data": {
      "image/png": "[encoded data removed]",
      "text/plain": [
       "<Figure size 432x288 with 2 Axes>"
      ]
     },
     "metadata": {
      "needs_background": "light"
     },
     "output_type": "display_data"
    },
    {
     "data": {
      "image/png": "[encoded data removed]",
      "text/plain": [
       "<Figure size 432x288 with 2 Axes>"
      ]
     },
     "metadata": {
      "needs_background": "light"
     },
     "output_type": "display_data"
    },
    {
     "data": {
      "image/png": "[encoded data removed]",
      "text/plain": [
       "<Figure size 432x288 with 2 Axes>"
      ]
     },
     "metadata": {
      "needs_background": "light"
     },
     "output_type": "display_data"
    },
    {
     "data": {
      "image/png": "[encoded data removed]",
      "text/plain": [
       "<Figure size 1440x720 with 1 Axes>"
      ]
     },
     "metadata": {
      "needs_background": "light"
     },
     "output_type": "display_data"
    }
   ],
   "source": [
    "from sklearn.tree import DecisionTreeClassifier,DecisionTreeRegressor\n",
    "from sklearn.neighbors import *\n",
    "from sklearn.linear_model import *\n",
    "from sklearn.naive_bayes import GaussianNB\n",
    "models_clf = {\n",
    "    'RandomForestClassifier':RandomForestClassifier(),\n",
    "    'DecisionTreeClassifier':DecisionTreeClassifier(),\n",
    "    'SGDClassifier':SGDClassifier(),\n",
    "}\n",
    "X = data.drop('News Category',axis=1)\n",
    "y = data['News Category']\n",
    "cv = CountVectorizer()\n",
    "cv.fit(X['News Headline'])\n",
    "X_cv = cv.transform(X['News Headline'])\n",
    "X_train,X_test,y_train,y_test = train_test_split(X_cv,y,test_size=0.25)\n",
    "models_clf_results = fit_and_calcuate_metrixs(models_clf,X_train,X_test,y_train,y_test)\n",
    "models_clf_results = pd.DataFrame(models_clf_results.values(),models_clf_results.keys())\n",
    "models_clf_results.plot.bar(figsize=(20,10))"
   ]
  },
  {
   "cell_type": "code",
   "execution_count": 81,
   "metadata": {},
   "outputs": [
    {
     "data": {
      "text/html": [
       "<div>\n",
       "<style scoped>\n",
       "    .dataframe tbody tr th:only-of-type {\n",
       "        vertical-align: middle;\n",
       "    }\n",
       "\n",
       "    .dataframe tbody tr th {\n",
       "        vertical-align: top;\n",
       "    }\n",
       "\n",
       "    .dataframe thead th {\n",
       "        text-align: right;\n",
       "    }\n",
       "</style>\n",
       "<table border=\"1\" class=\"dataframe\">\n",
       "  <thead>\n",
       "    <tr style=\"text-align: right;\">\n",
       "      <th></th>\n",
       "      <th>Accuracy</th>\n",
       "      <th>MAE</th>\n",
       "      <th>MSE</th>\n",
       "    </tr>\n",
       "  </thead>\n",
       "  <tbody>\n",
       "    <tr>\n",
       "      <th>RandomForestClassifier</th>\n",
       "      <td>0.898106</td>\n",
       "      <td>0.301894</td>\n",
       "      <td>1.128409</td>\n",
       "    </tr>\n",
       "    <tr>\n",
       "      <th>DecisionTreeClassifier</th>\n",
       "      <td>0.876894</td>\n",
       "      <td>0.350000</td>\n",
       "      <td>1.289394</td>\n",
       "    </tr>\n",
       "    <tr>\n",
       "      <th>SGDClassifier</th>\n",
       "      <td>0.918939</td>\n",
       "      <td>0.242424</td>\n",
       "      <td>0.937121</td>\n",
       "    </tr>\n",
       "  </tbody>\n",
       "</table>\n",
       "</div>"
      ],
      "text/plain": [
       "                        Accuracy       MAE       MSE\n",
       "RandomForestClassifier  0.898106  0.301894  1.128409\n",
       "DecisionTreeClassifier  0.876894  0.350000  1.289394\n",
       "SGDClassifier           0.918939  0.242424  0.937121"
      ]
     },
     "execution_count": 81,
     "metadata": {},
     "output_type": "execute_result"
    }
   ],
   "source": [
    "models_clf_results"
   ]
  },
  {
   "cell_type": "markdown",
   "metadata": {},
   "source": [
    "### SGD Classifier # Grid Search CV"
   ]
  },
  {
   "cell_type": "code",
   "execution_count": 88,
   "metadata": {},
   "outputs": [
    {
     "name": "stdout",
     "output_type": "stream",
     "text": [
      "Fitting 2 folds for each of 72 candidates, totalling 144 fits\n",
      "[CV] fit_intercept=True, loss=log, penalty=l2, shuffle=True, warm_start=True \n",
      "[CV]  fit_intercept=True, loss=log, penalty=l2, shuffle=True, warm_start=True, score=0.883, total=   0.1s\n",
      "[CV] fit_intercept=True, loss=log, penalty=l2, shuffle=True, warm_start=True \n",
      "[CV]  fit_intercept=True, loss=log, penalty=l2, shuffle=True, warm_start=True, score=0.876, total=   0.1s\n",
      "[CV] fit_intercept=True, loss=log, penalty=l2, shuffle=True, warm_start=False \n",
      "[CV]  fit_intercept=True, loss=log, penalty=l2, shuffle=True, warm_start=False, score=0.881, total=   0.1s\n",
      "[CV] fit_intercept=True, loss=log, penalty=l2, shuffle=True, warm_start=False \n"
     ]
    },
    {
     "name": "stderr",
     "output_type": "stream",
     "text": [
      "[Parallel(n_jobs=1)]: Using backend SequentialBackend with 1 concurrent workers.\n",
      "[Parallel(n_jobs=1)]: Done   1 out of   1 | elapsed:    0.1s remaining:    0.0s\n",
      "[Parallel(n_jobs=1)]: Done   2 out of   2 | elapsed:    0.1s remaining:    0.0s\n",
      "[Parallel(n_jobs=1)]: Done   3 out of   3 | elapsed:    0.2s remaining:    0.0s\n"
     ]
    },
    {
     "name": "stdout",
     "output_type": "stream",
     "text": [
      "[CV]  fit_intercept=True, loss=log, penalty=l2, shuffle=True, warm_start=False, score=0.877, total=   0.1s\n",
      "[CV] fit_intercept=True, loss=log, penalty=l2, shuffle=False, warm_start=True \n",
      "[CV]  fit_intercept=True, loss=log, penalty=l2, shuffle=False, warm_start=True, score=0.874, total=   0.1s\n",
      "[CV] fit_intercept=True, loss=log, penalty=l2, shuffle=False, warm_start=True \n",
      "[CV]  fit_intercept=True, loss=log, penalty=l2, shuffle=False, warm_start=True, score=0.873, total=   0.1s\n",
      "[CV] fit_intercept=True, loss=log, penalty=l2, shuffle=False, warm_start=False \n",
      "[CV]  fit_intercept=True, loss=log, penalty=l2, shuffle=False, warm_start=False, score=0.874, total=   0.1s\n",
      "[CV] fit_intercept=True, loss=log, penalty=l2, shuffle=False, warm_start=False \n"
     ]
    },
    {
     "name": "stderr",
     "output_type": "stream",
     "text": [
      "[Parallel(n_jobs=1)]: Done   4 out of   4 | elapsed:    0.3s remaining:    0.0s\n",
      "[Parallel(n_jobs=1)]: Done   5 out of   5 | elapsed:    0.3s remaining:    0.0s\n",
      "[Parallel(n_jobs=1)]: Done   6 out of   6 | elapsed:    0.4s remaining:    0.0s\n",
      "[Parallel(n_jobs=1)]: Done   7 out of   7 | elapsed:    0.4s remaining:    0.0s\n"
     ]
    },
    {
     "name": "stdout",
     "output_type": "stream",
     "text": [
      "[CV]  fit_intercept=True, loss=log, penalty=l2, shuffle=False, warm_start=False, score=0.873, total=   0.1s\n",
      "[CV] fit_intercept=True, loss=log, penalty=l1, shuffle=True, warm_start=True \n",
      "[CV]  fit_intercept=True, loss=log, penalty=l1, shuffle=True, warm_start=True, score=0.850, total=   0.1s\n",
      "[CV] fit_intercept=True, loss=log, penalty=l1, shuffle=True, warm_start=True \n"
     ]
    },
    {
     "name": "stderr",
     "output_type": "stream",
     "text": [
      "[Parallel(n_jobs=1)]: Done   8 out of   8 | elapsed:    0.5s remaining:    0.0s\n",
      "[Parallel(n_jobs=1)]: Done   9 out of   9 | elapsed:    0.6s remaining:    0.0s\n"
     ]
    },
    {
     "name": "stdout",
     "output_type": "stream",
     "text": [
      "[CV]  fit_intercept=True, loss=log, penalty=l1, shuffle=True, warm_start=True, score=0.852, total=   0.1s\n",
      "[CV] fit_intercept=True, loss=log, penalty=l1, shuffle=True, warm_start=False \n",
      "[CV]  fit_intercept=True, loss=log, penalty=l1, shuffle=True, warm_start=False, score=0.849, total=   0.1s\n",
      "[CV] fit_intercept=True, loss=log, penalty=l1, shuffle=True, warm_start=False \n"
     ]
    },
    {
     "name": "stderr",
     "output_type": "stream",
     "text": [
      "[Parallel(n_jobs=1)]: Done  10 out of  10 | elapsed:    0.7s remaining:    0.0s\n",
      "[Parallel(n_jobs=1)]: Done  11 out of  11 | elapsed:    0.8s remaining:    0.0s\n"
     ]
    },
    {
     "name": "stdout",
     "output_type": "stream",
     "text": [
      "[CV]  fit_intercept=True, loss=log, penalty=l1, shuffle=True, warm_start=False, score=0.855, total=   0.1s\n",
      "[CV] fit_intercept=True, loss=log, penalty=l1, shuffle=False, warm_start=True \n",
      "[CV]  fit_intercept=True, loss=log, penalty=l1, shuffle=False, warm_start=True, score=0.854, total=   0.1s\n",
      "[CV] fit_intercept=True, loss=log, penalty=l1, shuffle=False, warm_start=True \n",
      "[CV]  fit_intercept=True, loss=log, penalty=l1, shuffle=False, warm_start=True, score=0.849, total=   0.1s\n",
      "[CV] fit_intercept=True, loss=log, penalty=l1, shuffle=False, warm_start=False \n"
     ]
    },
    {
     "name": "stderr",
     "output_type": "stream",
     "text": [
      "[Parallel(n_jobs=1)]: Done  12 out of  12 | elapsed:    0.9s remaining:    0.0s\n",
      "[Parallel(n_jobs=1)]: Done  13 out of  13 | elapsed:    1.0s remaining:    0.0s\n",
      "[Parallel(n_jobs=1)]: Done  14 out of  14 | elapsed:    1.1s remaining:    0.0s\n"
     ]
    },
    {
     "name": "stdout",
     "output_type": "stream",
     "text": [
      "[CV]  fit_intercept=True, loss=log, penalty=l1, shuffle=False, warm_start=False, score=0.854, total=   0.1s\n",
      "[CV] fit_intercept=True, loss=log, penalty=l1, shuffle=False, warm_start=False \n",
      "[CV]  fit_intercept=True, loss=log, penalty=l1, shuffle=False, warm_start=False, score=0.849, total=   0.1s\n",
      "[CV] fit_intercept=True, loss=log, penalty=elasticnet, shuffle=True, warm_start=True \n",
      "[CV]  fit_intercept=True, loss=log, penalty=elasticnet, shuffle=True, warm_start=True, score=0.875, total=   0.1s\n",
      "[CV] fit_intercept=True, loss=log, penalty=elasticnet, shuffle=True, warm_start=True \n"
     ]
    },
    {
     "name": "stderr",
     "output_type": "stream",
     "text": [
      "[Parallel(n_jobs=1)]: Done  15 out of  15 | elapsed:    1.2s remaining:    0.0s\n",
      "[Parallel(n_jobs=1)]: Done  16 out of  16 | elapsed:    1.3s remaining:    0.0s\n",
      "[Parallel(n_jobs=1)]: Done  17 out of  17 | elapsed:    1.4s remaining:    0.0s\n"
     ]
    },
    {
     "name": "stdout",
     "output_type": "stream",
     "text": [
      "[CV]  fit_intercept=True, loss=log, penalty=elasticnet, shuffle=True, warm_start=True, score=0.871, total=   0.1s\n",
      "[CV] fit_intercept=True, loss=log, penalty=elasticnet, shuffle=True, warm_start=False \n",
      "[CV]  fit_intercept=True, loss=log, penalty=elasticnet, shuffle=True, warm_start=False, score=0.879, total=   0.1s\n",
      "[CV] fit_intercept=True, loss=log, penalty=elasticnet, shuffle=True, warm_start=False \n",
      "[CV]  fit_intercept=True, loss=log, penalty=elasticnet, shuffle=True, warm_start=False, score=0.870, total=   0.1s\n",
      "[CV] fit_intercept=True, loss=log, penalty=elasticnet, shuffle=False, warm_start=True \n"
     ]
    },
    {
     "name": "stderr",
     "output_type": "stream",
     "text": [
      "[Parallel(n_jobs=1)]: Done  18 out of  18 | elapsed:    1.5s remaining:    0.0s\n",
      "[Parallel(n_jobs=1)]: Done  19 out of  19 | elapsed:    1.6s remaining:    0.0s\n",
      "[Parallel(n_jobs=1)]: Done  20 out of  20 | elapsed:    1.7s remaining:    0.0s\n"
     ]
    },
    {
     "name": "stdout",
     "output_type": "stream",
     "text": [
      "[CV]  fit_intercept=True, loss=log, penalty=elasticnet, shuffle=False, warm_start=True, score=0.874, total=   0.1s\n",
      "[CV] fit_intercept=True, loss=log, penalty=elasticnet, shuffle=False, warm_start=True \n",
      "[CV]  fit_intercept=True, loss=log, penalty=elasticnet, shuffle=False, warm_start=True, score=0.867, total=   0.1s\n",
      "[CV] fit_intercept=True, loss=log, penalty=elasticnet, shuffle=False, warm_start=False \n",
      "[CV]  fit_intercept=True, loss=log, penalty=elasticnet, shuffle=False, warm_start=False, score=0.874, total=   0.1s\n",
      "[CV] fit_intercept=True, loss=log, penalty=elasticnet, shuffle=False, warm_start=False \n"
     ]
    },
    {
     "name": "stderr",
     "output_type": "stream",
     "text": [
      "[Parallel(n_jobs=1)]: Done  21 out of  21 | elapsed:    1.8s remaining:    0.0s\n",
      "[Parallel(n_jobs=1)]: Done  22 out of  22 | elapsed:    1.8s remaining:    0.0s\n",
      "[Parallel(n_jobs=1)]: Done  23 out of  23 | elapsed:    1.9s remaining:    0.0s\n"
     ]
    },
    {
     "name": "stdout",
     "output_type": "stream",
     "text": [
      "[CV]  fit_intercept=True, loss=log, penalty=elasticnet, shuffle=False, warm_start=False, score=0.867, total=   0.1s\n",
      "[CV] fit_intercept=True, loss=hinge, penalty=l2, shuffle=True, warm_start=True \n",
      "[CV]  fit_intercept=True, loss=hinge, penalty=l2, shuffle=True, warm_start=True, score=0.875, total=   0.1s\n",
      "[CV] fit_intercept=True, loss=hinge, penalty=l2, shuffle=True, warm_start=True \n",
      "[CV]  fit_intercept=True, loss=hinge, penalty=l2, shuffle=True, warm_start=True, score=0.869, total=   0.0s\n",
      "[CV] fit_intercept=True, loss=hinge, penalty=l2, shuffle=True, warm_start=False \n",
      "[CV]  fit_intercept=True, loss=hinge, penalty=l2, shuffle=True, warm_start=False, score=0.872, total=   0.1s\n",
      "[CV] fit_intercept=True, loss=hinge, penalty=l2, shuffle=True, warm_start=False \n"
     ]
    },
    {
     "name": "stderr",
     "output_type": "stream",
     "text": [
      "[Parallel(n_jobs=1)]: Done  24 out of  24 | elapsed:    2.0s remaining:    0.0s\n"
     ]
    },
    {
     "name": "stdout",
     "output_type": "stream",
     "text": [
      "[CV]  fit_intercept=True, loss=hinge, penalty=l2, shuffle=True, warm_start=False, score=0.872, total=   0.1s\n",
      "[CV] fit_intercept=True, loss=hinge, penalty=l2, shuffle=False, warm_start=True \n",
      "[CV]  fit_intercept=True, loss=hinge, penalty=l2, shuffle=False, warm_start=True, score=0.870, total=   0.1s\n",
      "[CV] fit_intercept=True, loss=hinge, penalty=l2, shuffle=False, warm_start=True \n",
      "[CV]  fit_intercept=True, loss=hinge, penalty=l2, shuffle=False, warm_start=True, score=0.870, total=   0.0s\n",
      "[CV] fit_intercept=True, loss=hinge, penalty=l2, shuffle=False, warm_start=False \n",
      "[CV]  fit_intercept=True, loss=hinge, penalty=l2, shuffle=False, warm_start=False, score=0.870, total=   0.1s\n",
      "[CV] fit_intercept=True, loss=hinge, penalty=l2, shuffle=False, warm_start=False \n",
      "[CV]  fit_intercept=True, loss=hinge, penalty=l2, shuffle=False, warm_start=False, score=0.870, total=   0.1s\n",
      "[CV] fit_intercept=True, loss=hinge, penalty=l1, shuffle=True, warm_start=True \n",
      "[CV]  fit_intercept=True, loss=hinge, penalty=l1, shuffle=True, warm_start=True, score=0.853, total=   0.1s\n",
      "[CV] fit_intercept=True, loss=hinge, penalty=l1, shuffle=True, warm_start=True \n",
      "[CV]  fit_intercept=True, loss=hinge, penalty=l1, shuffle=True, warm_start=True, score=0.852, total=   0.1s\n",
      "[CV] fit_intercept=True, loss=hinge, penalty=l1, shuffle=True, warm_start=False \n",
      "[CV]  fit_intercept=True, loss=hinge, penalty=l1, shuffle=True, warm_start=False, score=0.857, total=   0.1s\n",
      "[CV] fit_intercept=True, loss=hinge, penalty=l1, shuffle=True, warm_start=False \n",
      "[CV]  fit_intercept=True, loss=hinge, penalty=l1, shuffle=True, warm_start=False, score=0.851, total=   0.1s\n",
      "[CV] fit_intercept=True, loss=hinge, penalty=l1, shuffle=False, warm_start=True \n",
      "[CV]  fit_intercept=True, loss=hinge, penalty=l1, shuffle=False, warm_start=True, score=0.849, total=   0.1s\n",
      "[CV] fit_intercept=True, loss=hinge, penalty=l1, shuffle=False, warm_start=True \n",
      "[CV]  fit_intercept=True, loss=hinge, penalty=l1, shuffle=False, warm_start=True, score=0.851, total=   0.1s\n",
      "[CV] fit_intercept=True, loss=hinge, penalty=l1, shuffle=False, warm_start=False \n",
      "[CV]  fit_intercept=True, loss=hinge, penalty=l1, shuffle=False, warm_start=False, score=0.849, total=   0.1s\n",
      "[CV] fit_intercept=True, loss=hinge, penalty=l1, shuffle=False, warm_start=False \n",
      "[CV]  fit_intercept=True, loss=hinge, penalty=l1, shuffle=False, warm_start=False, score=0.851, total=   0.1s\n",
      "[CV] fit_intercept=True, loss=hinge, penalty=elasticnet, shuffle=True, warm_start=True \n",
      "[CV]  fit_intercept=True, loss=hinge, penalty=elasticnet, shuffle=True, warm_start=True, score=0.870, total=   0.2s\n",
      "[CV] fit_intercept=True, loss=hinge, penalty=elasticnet, shuffle=True, warm_start=True \n",
      "[CV]  fit_intercept=True, loss=hinge, penalty=elasticnet, shuffle=True, warm_start=True, score=0.872, total=   0.2s\n",
      "[CV] fit_intercept=True, loss=hinge, penalty=elasticnet, shuffle=True, warm_start=False \n",
      "[CV]  fit_intercept=True, loss=hinge, penalty=elasticnet, shuffle=True, warm_start=False, score=0.873, total=   0.1s\n",
      "[CV] fit_intercept=True, loss=hinge, penalty=elasticnet, shuffle=True, warm_start=False \n",
      "[CV]  fit_intercept=True, loss=hinge, penalty=elasticnet, shuffle=True, warm_start=False, score=0.873, total=   0.1s\n",
      "[CV] fit_intercept=True, loss=hinge, penalty=elasticnet, shuffle=False, warm_start=True \n",
      "[CV]  fit_intercept=True, loss=hinge, penalty=elasticnet, shuffle=False, warm_start=True, score=0.875, total=   0.1s\n",
      "[CV] fit_intercept=True, loss=hinge, penalty=elasticnet, shuffle=False, warm_start=True \n",
      "[CV]  fit_intercept=True, loss=hinge, penalty=elasticnet, shuffle=False, warm_start=True, score=0.872, total=   0.1s\n",
      "[CV] fit_intercept=True, loss=hinge, penalty=elasticnet, shuffle=False, warm_start=False \n",
      "[CV]  fit_intercept=True, loss=hinge, penalty=elasticnet, shuffle=False, warm_start=False, score=0.875, total=   0.1s\n",
      "[CV] fit_intercept=True, loss=hinge, penalty=elasticnet, shuffle=False, warm_start=False \n",
      "[CV]  fit_intercept=True, loss=hinge, penalty=elasticnet, shuffle=False, warm_start=False, score=0.872, total=   0.1s\n",
      "[CV] fit_intercept=True, loss=perceptron, penalty=l2, shuffle=True, warm_start=True \n",
      "[CV]  fit_intercept=True, loss=perceptron, penalty=l2, shuffle=True, warm_start=True, score=0.860, total=   0.1s\n",
      "[CV] fit_intercept=True, loss=perceptron, penalty=l2, shuffle=True, warm_start=True \n",
      "[CV]  fit_intercept=True, loss=perceptron, penalty=l2, shuffle=True, warm_start=True, score=0.858, total=   0.1s\n",
      "[CV] fit_intercept=True, loss=perceptron, penalty=l2, shuffle=True, warm_start=False \n",
      "[CV]  fit_intercept=True, loss=perceptron, penalty=l2, shuffle=True, warm_start=False, score=0.858, total=   0.0s\n",
      "[CV] fit_intercept=True, loss=perceptron, penalty=l2, shuffle=True, warm_start=False \n",
      "[CV]  fit_intercept=True, loss=perceptron, penalty=l2, shuffle=True, warm_start=False, score=0.859, total=   0.0s\n",
      "[CV] fit_intercept=True, loss=perceptron, penalty=l2, shuffle=False, warm_start=True \n",
      "[CV]  fit_intercept=True, loss=perceptron, penalty=l2, shuffle=False, warm_start=True, score=0.856, total=   0.0s\n",
      "[CV] fit_intercept=True, loss=perceptron, penalty=l2, shuffle=False, warm_start=True \n",
      "[CV]  fit_intercept=True, loss=perceptron, penalty=l2, shuffle=False, warm_start=True, score=0.854, total=   0.0s\n",
      "[CV] fit_intercept=True, loss=perceptron, penalty=l2, shuffle=False, warm_start=False \n",
      "[CV]  fit_intercept=True, loss=perceptron, penalty=l2, shuffle=False, warm_start=False, score=0.856, total=   0.0s\n",
      "[CV] fit_intercept=True, loss=perceptron, penalty=l2, shuffle=False, warm_start=False \n",
      "[CV]  fit_intercept=True, loss=perceptron, penalty=l2, shuffle=False, warm_start=False, score=0.854, total=   0.0s\n",
      "[CV] fit_intercept=True, loss=perceptron, penalty=l1, shuffle=True, warm_start=True \n",
      "[CV]  fit_intercept=True, loss=perceptron, penalty=l1, shuffle=True, warm_start=True, score=0.848, total=   0.2s\n",
      "[CV] fit_intercept=True, loss=perceptron, penalty=l1, shuffle=True, warm_start=True \n",
      "[CV]  fit_intercept=True, loss=perceptron, penalty=l1, shuffle=True, warm_start=True, score=0.839, total=   0.2s\n",
      "[CV] fit_intercept=True, loss=perceptron, penalty=l1, shuffle=True, warm_start=False \n",
      "[CV]  fit_intercept=True, loss=perceptron, penalty=l1, shuffle=True, warm_start=False, score=0.844, total=   0.2s\n",
      "[CV] fit_intercept=True, loss=perceptron, penalty=l1, shuffle=True, warm_start=False \n",
      "[CV]  fit_intercept=True, loss=perceptron, penalty=l1, shuffle=True, warm_start=False, score=0.845, total=   0.2s\n",
      "[CV] fit_intercept=True, loss=perceptron, penalty=l1, shuffle=False, warm_start=True \n",
      "[CV]  fit_intercept=True, loss=perceptron, penalty=l1, shuffle=False, warm_start=True, score=0.849, total=   0.2s\n",
      "[CV] fit_intercept=True, loss=perceptron, penalty=l1, shuffle=False, warm_start=True \n",
      "[CV]  fit_intercept=True, loss=perceptron, penalty=l1, shuffle=False, warm_start=True, score=0.841, total=   0.2s\n",
      "[CV] fit_intercept=True, loss=perceptron, penalty=l1, shuffle=False, warm_start=False \n",
      "[CV]  fit_intercept=True, loss=perceptron, penalty=l1, shuffle=False, warm_start=False, score=0.849, total=   0.1s\n",
      "[CV] fit_intercept=True, loss=perceptron, penalty=l1, shuffle=False, warm_start=False \n",
      "[CV]  fit_intercept=True, loss=perceptron, penalty=l1, shuffle=False, warm_start=False, score=0.841, total=   0.1s\n",
      "[CV] fit_intercept=True, loss=perceptron, penalty=elasticnet, shuffle=True, warm_start=True \n",
      "[CV]  fit_intercept=True, loss=perceptron, penalty=elasticnet, shuffle=True, warm_start=True, score=0.866, total=   0.1s\n",
      "[CV] fit_intercept=True, loss=perceptron, penalty=elasticnet, shuffle=True, warm_start=True \n",
      "[CV]  fit_intercept=True, loss=perceptron, penalty=elasticnet, shuffle=True, warm_start=True, score=0.852, total=   0.1s\n",
      "[CV] fit_intercept=True, loss=perceptron, penalty=elasticnet, shuffle=True, warm_start=False \n",
      "[CV]  fit_intercept=True, loss=perceptron, penalty=elasticnet, shuffle=True, warm_start=False, score=0.858, total=   0.1s\n",
      "[CV] fit_intercept=True, loss=perceptron, penalty=elasticnet, shuffle=True, warm_start=False \n",
      "[CV]  fit_intercept=True, loss=perceptron, penalty=elasticnet, shuffle=True, warm_start=False, score=0.858, total=   0.1s\n",
      "[CV] fit_intercept=True, loss=perceptron, penalty=elasticnet, shuffle=False, warm_start=True \n"
     ]
    },
    {
     "name": "stdout",
     "output_type": "stream",
     "text": [
      "[CV]  fit_intercept=True, loss=perceptron, penalty=elasticnet, shuffle=False, warm_start=True, score=0.858, total=   0.1s\n",
      "[CV] fit_intercept=True, loss=perceptron, penalty=elasticnet, shuffle=False, warm_start=True \n",
      "[CV]  fit_intercept=True, loss=perceptron, penalty=elasticnet, shuffle=False, warm_start=True, score=0.852, total=   0.1s\n",
      "[CV] fit_intercept=True, loss=perceptron, penalty=elasticnet, shuffle=False, warm_start=False \n",
      "[CV]  fit_intercept=True, loss=perceptron, penalty=elasticnet, shuffle=False, warm_start=False, score=0.858, total=   0.1s\n",
      "[CV] fit_intercept=True, loss=perceptron, penalty=elasticnet, shuffle=False, warm_start=False \n",
      "[CV]  fit_intercept=True, loss=perceptron, penalty=elasticnet, shuffle=False, warm_start=False, score=0.852, total=   0.1s\n",
      "[CV] fit_intercept=False, loss=log, penalty=l2, shuffle=True, warm_start=True \n",
      "[CV]  fit_intercept=False, loss=log, penalty=l2, shuffle=True, warm_start=True, score=0.874, total=   0.1s\n",
      "[CV] fit_intercept=False, loss=log, penalty=l2, shuffle=True, warm_start=True \n",
      "[CV]  fit_intercept=False, loss=log, penalty=l2, shuffle=True, warm_start=True, score=0.870, total=   0.1s\n",
      "[CV] fit_intercept=False, loss=log, penalty=l2, shuffle=True, warm_start=False \n",
      "[CV]  fit_intercept=False, loss=log, penalty=l2, shuffle=True, warm_start=False, score=0.874, total=   0.1s\n",
      "[CV] fit_intercept=False, loss=log, penalty=l2, shuffle=True, warm_start=False \n",
      "[CV]  fit_intercept=False, loss=log, penalty=l2, shuffle=True, warm_start=False, score=0.877, total=   0.1s\n",
      "[CV] fit_intercept=False, loss=log, penalty=l2, shuffle=False, warm_start=True \n",
      "[CV]  fit_intercept=False, loss=log, penalty=l2, shuffle=False, warm_start=True, score=0.871, total=   0.1s\n",
      "[CV] fit_intercept=False, loss=log, penalty=l2, shuffle=False, warm_start=True \n",
      "[CV]  fit_intercept=False, loss=log, penalty=l2, shuffle=False, warm_start=True, score=0.872, total=   0.0s\n",
      "[CV] fit_intercept=False, loss=log, penalty=l2, shuffle=False, warm_start=False \n",
      "[CV]  fit_intercept=False, loss=log, penalty=l2, shuffle=False, warm_start=False, score=0.871, total=   0.0s\n",
      "[CV] fit_intercept=False, loss=log, penalty=l2, shuffle=False, warm_start=False \n",
      "[CV]  fit_intercept=False, loss=log, penalty=l2, shuffle=False, warm_start=False, score=0.872, total=   0.0s\n",
      "[CV] fit_intercept=False, loss=log, penalty=l1, shuffle=True, warm_start=True \n",
      "[CV]  fit_intercept=False, loss=log, penalty=l1, shuffle=True, warm_start=True, score=0.861, total=   0.1s\n",
      "[CV] fit_intercept=False, loss=log, penalty=l1, shuffle=True, warm_start=True \n",
      "[CV]  fit_intercept=False, loss=log, penalty=l1, shuffle=True, warm_start=True, score=0.851, total=   0.1s\n",
      "[CV] fit_intercept=False, loss=log, penalty=l1, shuffle=True, warm_start=False \n",
      "[CV]  fit_intercept=False, loss=log, penalty=l1, shuffle=True, warm_start=False, score=0.852, total=   0.1s\n",
      "[CV] fit_intercept=False, loss=log, penalty=l1, shuffle=True, warm_start=False \n",
      "[CV]  fit_intercept=False, loss=log, penalty=l1, shuffle=True, warm_start=False, score=0.846, total=   0.1s\n",
      "[CV] fit_intercept=False, loss=log, penalty=l1, shuffle=False, warm_start=True \n",
      "[CV]  fit_intercept=False, loss=log, penalty=l1, shuffle=False, warm_start=True, score=0.856, total=   0.1s\n",
      "[CV] fit_intercept=False, loss=log, penalty=l1, shuffle=False, warm_start=True \n",
      "[CV]  fit_intercept=False, loss=log, penalty=l1, shuffle=False, warm_start=True, score=0.851, total=   0.1s\n",
      "[CV] fit_intercept=False, loss=log, penalty=l1, shuffle=False, warm_start=False \n",
      "[CV]  fit_intercept=False, loss=log, penalty=l1, shuffle=False, warm_start=False, score=0.856, total=   0.1s\n",
      "[CV] fit_intercept=False, loss=log, penalty=l1, shuffle=False, warm_start=False \n",
      "[CV]  fit_intercept=False, loss=log, penalty=l1, shuffle=False, warm_start=False, score=0.851, total=   0.1s\n",
      "[CV] fit_intercept=False, loss=log, penalty=elasticnet, shuffle=True, warm_start=True \n",
      "[CV]  fit_intercept=False, loss=log, penalty=elasticnet, shuffle=True, warm_start=True, score=0.875, total=   0.1s\n",
      "[CV] fit_intercept=False, loss=log, penalty=elasticnet, shuffle=True, warm_start=True \n",
      "[CV]  fit_intercept=False, loss=log, penalty=elasticnet, shuffle=True, warm_start=True, score=0.870, total=   0.1s\n",
      "[CV] fit_intercept=False, loss=log, penalty=elasticnet, shuffle=True, warm_start=False \n",
      "[CV]  fit_intercept=False, loss=log, penalty=elasticnet, shuffle=True, warm_start=False, score=0.872, total=   0.1s\n",
      "[CV] fit_intercept=False, loss=log, penalty=elasticnet, shuffle=True, warm_start=False \n",
      "[CV]  fit_intercept=False, loss=log, penalty=elasticnet, shuffle=True, warm_start=False, score=0.867, total=   0.1s\n",
      "[CV] fit_intercept=False, loss=log, penalty=elasticnet, shuffle=False, warm_start=True \n",
      "[CV]  fit_intercept=False, loss=log, penalty=elasticnet, shuffle=False, warm_start=True, score=0.871, total=   0.1s\n",
      "[CV] fit_intercept=False, loss=log, penalty=elasticnet, shuffle=False, warm_start=True \n",
      "[CV]  fit_intercept=False, loss=log, penalty=elasticnet, shuffle=False, warm_start=True, score=0.864, total=   0.1s\n",
      "[CV] fit_intercept=False, loss=log, penalty=elasticnet, shuffle=False, warm_start=False \n",
      "[CV]  fit_intercept=False, loss=log, penalty=elasticnet, shuffle=False, warm_start=False, score=0.871, total=   0.1s\n",
      "[CV] fit_intercept=False, loss=log, penalty=elasticnet, shuffle=False, warm_start=False \n",
      "[CV]  fit_intercept=False, loss=log, penalty=elasticnet, shuffle=False, warm_start=False, score=0.864, total=   0.1s\n",
      "[CV] fit_intercept=False, loss=hinge, penalty=l2, shuffle=True, warm_start=True \n",
      "[CV]  fit_intercept=False, loss=hinge, penalty=l2, shuffle=True, warm_start=True, score=0.868, total=   0.1s\n",
      "[CV] fit_intercept=False, loss=hinge, penalty=l2, shuffle=True, warm_start=True \n",
      "[CV]  fit_intercept=False, loss=hinge, penalty=l2, shuffle=True, warm_start=True, score=0.868, total=   0.1s\n",
      "[CV] fit_intercept=False, loss=hinge, penalty=l2, shuffle=True, warm_start=False \n",
      "[CV]  fit_intercept=False, loss=hinge, penalty=l2, shuffle=True, warm_start=False, score=0.874, total=   0.1s\n",
      "[CV] fit_intercept=False, loss=hinge, penalty=l2, shuffle=True, warm_start=False \n",
      "[CV]  fit_intercept=False, loss=hinge, penalty=l2, shuffle=True, warm_start=False, score=0.869, total=   0.1s\n",
      "[CV] fit_intercept=False, loss=hinge, penalty=l2, shuffle=False, warm_start=True \n",
      "[CV]  fit_intercept=False, loss=hinge, penalty=l2, shuffle=False, warm_start=True, score=0.869, total=   0.1s\n",
      "[CV] fit_intercept=False, loss=hinge, penalty=l2, shuffle=False, warm_start=True \n",
      "[CV]  fit_intercept=False, loss=hinge, penalty=l2, shuffle=False, warm_start=True, score=0.868, total=   0.1s\n",
      "[CV] fit_intercept=False, loss=hinge, penalty=l2, shuffle=False, warm_start=False \n",
      "[CV]  fit_intercept=False, loss=hinge, penalty=l2, shuffle=False, warm_start=False, score=0.869, total=   0.0s\n",
      "[CV] fit_intercept=False, loss=hinge, penalty=l2, shuffle=False, warm_start=False \n",
      "[CV]  fit_intercept=False, loss=hinge, penalty=l2, shuffle=False, warm_start=False, score=0.868, total=   0.0s\n",
      "[CV] fit_intercept=False, loss=hinge, penalty=l1, shuffle=True, warm_start=True \n",
      "[CV]  fit_intercept=False, loss=hinge, penalty=l1, shuffle=True, warm_start=True, score=0.855, total=   0.2s\n",
      "[CV] fit_intercept=False, loss=hinge, penalty=l1, shuffle=True, warm_start=True \n",
      "[CV]  fit_intercept=False, loss=hinge, penalty=l1, shuffle=True, warm_start=True, score=0.843, total=   0.1s\n",
      "[CV] fit_intercept=False, loss=hinge, penalty=l1, shuffle=True, warm_start=False \n",
      "[CV]  fit_intercept=False, loss=hinge, penalty=l1, shuffle=True, warm_start=False, score=0.861, total=   0.1s\n",
      "[CV] fit_intercept=False, loss=hinge, penalty=l1, shuffle=True, warm_start=False \n",
      "[CV]  fit_intercept=False, loss=hinge, penalty=l1, shuffle=True, warm_start=False, score=0.850, total=   0.1s\n",
      "[CV] fit_intercept=False, loss=hinge, penalty=l1, shuffle=False, warm_start=True \n",
      "[CV]  fit_intercept=False, loss=hinge, penalty=l1, shuffle=False, warm_start=True, score=0.852, total=   0.1s\n",
      "[CV] fit_intercept=False, loss=hinge, penalty=l1, shuffle=False, warm_start=True \n",
      "[CV]  fit_intercept=False, loss=hinge, penalty=l1, shuffle=False, warm_start=True, score=0.852, total=   0.1s\n",
      "[CV] fit_intercept=False, loss=hinge, penalty=l1, shuffle=False, warm_start=False \n",
      "[CV]  fit_intercept=False, loss=hinge, penalty=l1, shuffle=False, warm_start=False, score=0.852, total=   0.1s\n",
      "[CV] fit_intercept=False, loss=hinge, penalty=l1, shuffle=False, warm_start=False \n",
      "[CV]  fit_intercept=False, loss=hinge, penalty=l1, shuffle=False, warm_start=False, score=0.852, total=   0.1s\n",
      "[CV] fit_intercept=False, loss=hinge, penalty=elasticnet, shuffle=True, warm_start=True \n"
     ]
    },
    {
     "name": "stdout",
     "output_type": "stream",
     "text": [
      "[CV]  fit_intercept=False, loss=hinge, penalty=elasticnet, shuffle=True, warm_start=True, score=0.868, total=   0.1s\n",
      "[CV] fit_intercept=False, loss=hinge, penalty=elasticnet, shuffle=True, warm_start=True \n",
      "[CV]  fit_intercept=False, loss=hinge, penalty=elasticnet, shuffle=True, warm_start=True, score=0.866, total=   0.1s\n",
      "[CV] fit_intercept=False, loss=hinge, penalty=elasticnet, shuffle=True, warm_start=False \n",
      "[CV]  fit_intercept=False, loss=hinge, penalty=elasticnet, shuffle=True, warm_start=False, score=0.866, total=   0.1s\n",
      "[CV] fit_intercept=False, loss=hinge, penalty=elasticnet, shuffle=True, warm_start=False \n",
      "[CV]  fit_intercept=False, loss=hinge, penalty=elasticnet, shuffle=True, warm_start=False, score=0.867, total=   0.1s\n",
      "[CV] fit_intercept=False, loss=hinge, penalty=elasticnet, shuffle=False, warm_start=True \n",
      "[CV]  fit_intercept=False, loss=hinge, penalty=elasticnet, shuffle=False, warm_start=True, score=0.869, total=   0.1s\n",
      "[CV] fit_intercept=False, loss=hinge, penalty=elasticnet, shuffle=False, warm_start=True \n",
      "[CV]  fit_intercept=False, loss=hinge, penalty=elasticnet, shuffle=False, warm_start=True, score=0.866, total=   0.1s\n",
      "[CV] fit_intercept=False, loss=hinge, penalty=elasticnet, shuffle=False, warm_start=False \n",
      "[CV]  fit_intercept=False, loss=hinge, penalty=elasticnet, shuffle=False, warm_start=False, score=0.869, total=   0.1s\n",
      "[CV] fit_intercept=False, loss=hinge, penalty=elasticnet, shuffle=False, warm_start=False \n",
      "[CV]  fit_intercept=False, loss=hinge, penalty=elasticnet, shuffle=False, warm_start=False, score=0.866, total=   0.1s\n",
      "[CV] fit_intercept=False, loss=perceptron, penalty=l2, shuffle=True, warm_start=True \n",
      "[CV]  fit_intercept=False, loss=perceptron, penalty=l2, shuffle=True, warm_start=True, score=0.864, total=   0.0s\n",
      "[CV] fit_intercept=False, loss=perceptron, penalty=l2, shuffle=True, warm_start=True \n",
      "[CV]  fit_intercept=False, loss=perceptron, penalty=l2, shuffle=True, warm_start=True, score=0.858, total=   0.1s\n",
      "[CV] fit_intercept=False, loss=perceptron, penalty=l2, shuffle=True, warm_start=False \n",
      "[CV]  fit_intercept=False, loss=perceptron, penalty=l2, shuffle=True, warm_start=False, score=0.857, total=   0.0s\n",
      "[CV] fit_intercept=False, loss=perceptron, penalty=l2, shuffle=True, warm_start=False \n",
      "[CV]  fit_intercept=False, loss=perceptron, penalty=l2, shuffle=True, warm_start=False, score=0.843, total=   0.0s\n",
      "[CV] fit_intercept=False, loss=perceptron, penalty=l2, shuffle=False, warm_start=True \n",
      "[CV]  fit_intercept=False, loss=perceptron, penalty=l2, shuffle=False, warm_start=True, score=0.853, total=   0.0s\n",
      "[CV] fit_intercept=False, loss=perceptron, penalty=l2, shuffle=False, warm_start=True \n",
      "[CV]  fit_intercept=False, loss=perceptron, penalty=l2, shuffle=False, warm_start=True, score=0.855, total=   0.0s\n",
      "[CV] fit_intercept=False, loss=perceptron, penalty=l2, shuffle=False, warm_start=False \n",
      "[CV]  fit_intercept=False, loss=perceptron, penalty=l2, shuffle=False, warm_start=False, score=0.853, total=   0.0s\n",
      "[CV] fit_intercept=False, loss=perceptron, penalty=l2, shuffle=False, warm_start=False \n",
      "[CV]  fit_intercept=False, loss=perceptron, penalty=l2, shuffle=False, warm_start=False, score=0.855, total=   0.0s\n",
      "[CV] fit_intercept=False, loss=perceptron, penalty=l1, shuffle=True, warm_start=True \n",
      "[CV]  fit_intercept=False, loss=perceptron, penalty=l1, shuffle=True, warm_start=True, score=0.843, total=   0.1s\n",
      "[CV] fit_intercept=False, loss=perceptron, penalty=l1, shuffle=True, warm_start=True \n",
      "[CV]  fit_intercept=False, loss=perceptron, penalty=l1, shuffle=True, warm_start=True, score=0.846, total=   0.1s\n",
      "[CV] fit_intercept=False, loss=perceptron, penalty=l1, shuffle=True, warm_start=False \n",
      "[CV]  fit_intercept=False, loss=perceptron, penalty=l1, shuffle=True, warm_start=False, score=0.840, total=   0.1s\n",
      "[CV] fit_intercept=False, loss=perceptron, penalty=l1, shuffle=True, warm_start=False \n",
      "[CV]  fit_intercept=False, loss=perceptron, penalty=l1, shuffle=True, warm_start=False, score=0.854, total=   0.1s\n",
      "[CV] fit_intercept=False, loss=perceptron, penalty=l1, shuffle=False, warm_start=True \n",
      "[CV]  fit_intercept=False, loss=perceptron, penalty=l1, shuffle=False, warm_start=True, score=0.842, total=   0.1s\n",
      "[CV] fit_intercept=False, loss=perceptron, penalty=l1, shuffle=False, warm_start=True \n",
      "[CV]  fit_intercept=False, loss=perceptron, penalty=l1, shuffle=False, warm_start=True, score=0.844, total=   0.1s\n",
      "[CV] fit_intercept=False, loss=perceptron, penalty=l1, shuffle=False, warm_start=False \n",
      "[CV]  fit_intercept=False, loss=perceptron, penalty=l1, shuffle=False, warm_start=False, score=0.842, total=   0.1s\n",
      "[CV] fit_intercept=False, loss=perceptron, penalty=l1, shuffle=False, warm_start=False \n",
      "[CV]  fit_intercept=False, loss=perceptron, penalty=l1, shuffle=False, warm_start=False, score=0.844, total=   0.1s\n",
      "[CV] fit_intercept=False, loss=perceptron, penalty=elasticnet, shuffle=True, warm_start=True \n",
      "[CV]  fit_intercept=False, loss=perceptron, penalty=elasticnet, shuffle=True, warm_start=True, score=0.853, total=   0.1s\n",
      "[CV] fit_intercept=False, loss=perceptron, penalty=elasticnet, shuffle=True, warm_start=True \n",
      "[CV]  fit_intercept=False, loss=perceptron, penalty=elasticnet, shuffle=True, warm_start=True, score=0.845, total=   0.1s\n",
      "[CV] fit_intercept=False, loss=perceptron, penalty=elasticnet, shuffle=True, warm_start=False \n",
      "[CV]  fit_intercept=False, loss=perceptron, penalty=elasticnet, shuffle=True, warm_start=False, score=0.857, total=   0.1s\n",
      "[CV] fit_intercept=False, loss=perceptron, penalty=elasticnet, shuffle=True, warm_start=False \n",
      "[CV]  fit_intercept=False, loss=perceptron, penalty=elasticnet, shuffle=True, warm_start=False, score=0.850, total=   0.1s\n",
      "[CV] fit_intercept=False, loss=perceptron, penalty=elasticnet, shuffle=False, warm_start=True \n",
      "[CV]  fit_intercept=False, loss=perceptron, penalty=elasticnet, shuffle=False, warm_start=True, score=0.842, total=   0.1s\n",
      "[CV] fit_intercept=False, loss=perceptron, penalty=elasticnet, shuffle=False, warm_start=True \n",
      "[CV]  fit_intercept=False, loss=perceptron, penalty=elasticnet, shuffle=False, warm_start=True, score=0.847, total=   0.1s\n",
      "[CV] fit_intercept=False, loss=perceptron, penalty=elasticnet, shuffle=False, warm_start=False \n",
      "[CV]  fit_intercept=False, loss=perceptron, penalty=elasticnet, shuffle=False, warm_start=False, score=0.842, total=   0.1s\n",
      "[CV] fit_intercept=False, loss=perceptron, penalty=elasticnet, shuffle=False, warm_start=False \n",
      "[CV]  fit_intercept=False, loss=perceptron, penalty=elasticnet, shuffle=False, warm_start=False, score=0.847, total=   0.1s\n"
     ]
    },
    {
     "name": "stderr",
     "output_type": "stream",
     "text": [
      "[Parallel(n_jobs=1)]: Done 144 out of 144 | elapsed:   13.7s finished\n"
     ]
    }
   ],
   "source": [
    "grid = {\n",
    "    'loss':['log','hinge','perceptron'],\n",
    "    'penalty':['l2','l1','elasticnet'],\n",
    "    'fit_intercept':[True,False],\n",
    "    'shuffle':[True,False],\n",
    "    'warm_start':[True,False]\n",
    "}\n",
    "gs = GridSearchCV(SGDClassifier(),cv=round(2.5),verbose=25,param_grid=grid).fit(X_train,y_train)"
   ]
  },
  {
   "cell_type": "code",
   "execution_count": 92,
   "metadata": {},
   "outputs": [
    {
     "name": "stdout",
     "output_type": "stream",
     "text": [
      "SGDClassifier\n",
      "\n",
      "\n",
      "\n"
     ]
    },
    {
     "data": {
      "text/plain": [
       "<AxesSubplot:>"
      ]
     },
     "execution_count": 92,
     "metadata": {},
     "output_type": "execute_result"
    },
    {
     "data": {
      "image/png": "[encoded data removed]",
      "text/plain": [
       "<Figure size 432x288 with 2 Axes>"
      ]
     },
     "metadata": {
      "needs_background": "light"
     },
     "output_type": "display_data"
    },
    {
     "data": {
      "image/png": "[encoded data removed]",
      "text/plain": [
       "<Figure size 1440x720 with 1 Axes>"
      ]
     },
     "metadata": {
      "needs_background": "light"
     },
     "output_type": "display_data"
    }
   ],
   "source": [
    "models_clf_results = calcuate_metrixs({'SGDClassifier':gs},X_train,X_test,y_train,y_test)\n",
    "models_clf_results = pd.DataFrame(models_clf_results.values(),models_clf_results.keys())\n",
    "models_clf_results.plot.bar(figsize=(20,10))"
   ]
  },
  {
   "cell_type": "code",
   "execution_count": 93,
   "metadata": {},
   "outputs": [
    {
     "data": {
      "text/html": [
       "<div>\n",
       "<style scoped>\n",
       "    .dataframe tbody tr th:only-of-type {\n",
       "        vertical-align: middle;\n",
       "    }\n",
       "\n",
       "    .dataframe tbody tr th {\n",
       "        vertical-align: top;\n",
       "    }\n",
       "\n",
       "    .dataframe thead th {\n",
       "        text-align: right;\n",
       "    }\n",
       "</style>\n",
       "<table border=\"1\" class=\"dataframe\">\n",
       "  <thead>\n",
       "    <tr style=\"text-align: right;\">\n",
       "      <th></th>\n",
       "      <th>Accuracy</th>\n",
       "      <th>MAE</th>\n",
       "      <th>MSE</th>\n",
       "    </tr>\n",
       "  </thead>\n",
       "  <tbody>\n",
       "    <tr>\n",
       "      <th>SGDClassifier</th>\n",
       "      <td>0.923106</td>\n",
       "      <td>0.229167</td>\n",
       "      <td>0.879167</td>\n",
       "    </tr>\n",
       "  </tbody>\n",
       "</table>\n",
       "</div>"
      ],
      "text/plain": [
       "               Accuracy       MAE       MSE\n",
       "SGDClassifier  0.923106  0.229167  0.879167"
      ]
     },
     "execution_count": 93,
     "metadata": {},
     "output_type": "execute_result"
    }
   ],
   "source": [
    "models_clf_results"
   ]
  },
  {
   "cell_type": "code",
   "execution_count": 94,
   "metadata": {},
   "outputs": [],
   "source": [
    "import pickle\n",
    "pickle.dump(gs,open('./model.pkl','wb'))"
   ]
  },
  {
   "cell_type": "code",
   "execution_count": 95,
   "metadata": {},
   "outputs": [
    {
     "name": "stdout",
     "output_type": "stream",
     "text": [
      "'archive (59).zip'\t   inshort_news_data-5.csv   model.pkl\r\n",
      " inshort_news_data-1.csv   inshort_news_data-6.csv   news_category.json\r\n",
      " inshort_news_data-3.csv   inshort_news_data-7.csv\r\n",
      " inshort_news_data-4.csv   main.ipynb\r\n"
     ]
    }
   ],
   "source": [
    "!ls"
   ]
  },
  {
   "cell_type": "code",
   "execution_count": null,
   "metadata": {},
   "outputs": [],
   "source": []
  }
 ],
 "metadata": {
  "kernelspec": {
   "display_name": "Python 3",
   "language": "python",
   "name": "python3"
  },
  "language_info": {
   "codemirror_mode": {
    "name": "ipython",
    "version": 3
   },
   "file_extension": ".py",
   "mimetype": "text/x-python",
   "name": "python",
   "nbconvert_exporter": "python",
   "pygments_lexer": "ipython3",
   "version": "3.8.5"
  }
 },
 "nbformat": 4,
 "nbformat_minor": 4
}
